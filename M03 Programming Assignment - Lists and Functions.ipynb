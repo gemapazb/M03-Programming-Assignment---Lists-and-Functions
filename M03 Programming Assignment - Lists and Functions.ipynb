{
 "cells": [
  {
   "cell_type": "code",
   "execution_count": 3,
   "id": "629af1ca",
   "metadata": {},
   "outputs": [
    {
     "name": "stdout",
     "output_type": "stream",
     "text": [
      "[1988, 1989, 1990, 1991, 1992, 1993]\n"
     ]
    }
   ],
   "source": [
    "#7.1 Create a list called years_list, starting with the year of your birth, \n",
    "#and each year thereafter until the year of your fifth birthday. \n",
    "#For example, if you were born in 1980, the list would be years_list = [1980, 1981, 1982, 1983, 1984, 1985]\n",
    "\n",
    "years_list = [1988, 1989, 1990, 1991, 1992, 1993]\n",
    "print(years_list)"
   ]
  },
  {
   "cell_type": "code",
   "execution_count": 4,
   "id": "3e3beb74",
   "metadata": {},
   "outputs": [
    {
     "data": {
      "text/plain": [
       "1991"
      ]
     },
     "execution_count": 4,
     "metadata": {},
     "output_type": "execute_result"
    }
   ],
   "source": [
    "#7.2 In which of these years was your third birthday? Remember, you were 0 years of age for your first year.\n",
    "years_list[3]\n"
   ]
  },
  {
   "cell_type": "code",
   "execution_count": 5,
   "id": "46164357",
   "metadata": {},
   "outputs": [
    {
     "data": {
      "text/plain": [
       "1993"
      ]
     },
     "execution_count": 5,
     "metadata": {},
     "output_type": "execute_result"
    }
   ],
   "source": [
    "#7.3 In which year in years_list were you the oldest?\n",
    "years_list[5]\n"
   ]
  },
  {
   "cell_type": "code",
   "execution_count": 7,
   "id": "fa0e61c5",
   "metadata": {},
   "outputs": [
    {
     "name": "stdout",
     "output_type": "stream",
     "text": [
      "['mozzarella', 'cinderella', 'salmonella']\n"
     ]
    }
   ],
   "source": [
    "#7.4 Make and print a list called things with these three strings as elements: \"mozzarella\", \"cinderella\", \"salmonella\".\n",
    "\n",
    "things= [\"mozzarella\", \"cinderella\", \"salmonella\"]\n",
    "print(things)\n"
   ]
  },
  {
   "cell_type": "code",
   "execution_count": 12,
   "id": "f96a549f",
   "metadata": {},
   "outputs": [
    {
     "name": "stdout",
     "output_type": "stream",
     "text": [
      "['mozzarella', 'Cinderella', 'salmonella']\n"
     ]
    }
   ],
   "source": [
    "#7.5 Capitalize the element in things that refers to a person and then print the list. \n",
    "#capitalize cinderela\n",
    "#mozzarela is 0 and Cinderella 1  salmonela 2  \n",
    "things[1] = things[1].capitalize()\n",
    "print(things)"
   ]
  },
  {
   "cell_type": "code",
   "execution_count": 13,
   "id": "c0492301",
   "metadata": {},
   "outputs": [
    {
     "name": "stdout",
     "output_type": "stream",
     "text": [
      "['MOZZARELLA', 'Cinderella', 'salmonella']\n"
     ]
    }
   ],
   "source": [
    "#7.6 Make the cheesy element of things all uppercase and then print the list.\n",
    "things[0] = things[0].upper()\n",
    "print(things)"
   ]
  },
  {
   "cell_type": "code",
   "execution_count": 14,
   "id": "be030375",
   "metadata": {},
   "outputs": [
    {
     "name": "stdout",
     "output_type": "stream",
     "text": [
      "['MOZZARELLA', 'Cinderella']\n"
     ]
    }
   ],
   "source": [
    "#7.7 Delete the disease element, collect your Nobel Prize, and then print the list.\n",
    "things.remove(\"salmonella\")\n",
    "print(things)\n"
   ]
  },
  {
   "cell_type": "code",
   "execution_count": 17,
   "id": "5b02f048",
   "metadata": {},
   "outputs": [
    {
     "data": {
      "text/plain": [
       "['Harry', 'Ron', 'Hermione']"
      ]
     },
     "execution_count": 17,
     "metadata": {},
     "output_type": "execute_result"
    }
   ],
   "source": [
    "#9.1 Define a function called good() that returns the following list: ['Harry', 'Ron', 'Hermione'].\n",
    "\n",
    "\n",
    "def good():\n",
    "    return ['Harry', 'Ron', 'Hermione']\n",
    "good()"
   ]
  },
  {
   "cell_type": "code",
   "execution_count": 32,
   "id": "b20e4d83",
   "metadata": {},
   "outputs": [
    {
     "name": "stdout",
     "output_type": "stream",
     "text": [
      "The third odd number is 5\n"
     ]
    }
   ],
   "source": [
    "#9.2 Define a generator function called get_odds() that returns the odd numbers from range(10). \n",
    "#Use a for loop to find and print the third value returned\n",
    "\n",
    "def get_odds():\n",
    "    for number in range(1,10,2):\n",
    "           yield number  \n",
    "    #>> Yield job is to control the flow of a generator function in a way that's similar to return statements.\n",
    "            \n",
    "count = 1\n",
    "for number in get_odds():\n",
    "    if count == 3:\n",
    "         print(\"The third odd number is\", number)\n",
    "         break\n",
    "    count += 1\n",
    "    "
   ]
  },
  {
   "cell_type": "markdown",
   "id": "1245935f",
   "metadata": {},
   "source": []
  },
  {
   "cell_type": "code",
   "execution_count": null,
   "id": "e4712dbb",
   "metadata": {},
   "outputs": [],
   "source": []
  },
  {
   "cell_type": "code",
   "execution_count": null,
   "id": "4f6363cd",
   "metadata": {},
   "outputs": [],
   "source": []
  }
 ],
 "metadata": {
  "kernelspec": {
   "display_name": "Python 3 (ipykernel)",
   "language": "python",
   "name": "python3"
  },
  "language_info": {
   "codemirror_mode": {
    "name": "ipython",
    "version": 3
   },
   "file_extension": ".py",
   "mimetype": "text/x-python",
   "name": "python",
   "nbconvert_exporter": "python",
   "pygments_lexer": "ipython3",
   "version": "3.9.13"
  }
 },
 "nbformat": 4,
 "nbformat_minor": 5
}
